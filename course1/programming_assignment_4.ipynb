{
 "cells": [
  {
   "cell_type": "code",
   "execution_count": 1,
   "metadata": {
    "collapsed": true
   },
   "outputs": [],
   "source": [
    "import graphlab"
   ]
  },
  {
   "cell_type": "code",
   "execution_count": 13,
   "metadata": {
    "collapsed": false
   },
   "outputs": [],
   "source": [
    "song_data = graphlab.SFrame('song_data.gl/')"
   ]
  },
  {
   "cell_type": "code",
   "execution_count": 8,
   "metadata": {
    "collapsed": true
   },
   "outputs": [],
   "source": [
    "graphlab.canvas.set_target('ipynb')"
   ]
  },
  {
   "cell_type": "code",
   "execution_count": 3,
   "metadata": {
    "collapsed": false
   },
   "outputs": [
    {
     "data": {
      "text/plain": [
       "dtype: str\n",
       "Rows: 2522\n",
       "['900ed526660df9c3442ebe736db94eb0bc251b73', '5c604b6fc3d4077dfca40a57eea49388b69a19d6', 'b4c75391d49ce797c1af18468f1aa3ae5943f9de', 'd04c88b802b821e3589ec2fbb62a6871b98c7ff5', '18325842a941bc58449ee71d659a08d1c1bd2383', '9685135efd0757150edb8d49e192fbb301e70e94', '71c17371dff96abe86663a7dc83e4334f3e4a67f', '514d01681186630dbde6ecf1203a1402ab10cc36', '9f78f038854c3ffb9e864ad281a7201d4dd999b2', '4c2dbc42092ca81246bb81b6501cd51daa4bd9c4', '5f5ded2aad1ecec53816fe37e529ab984a5bd789', 'b8474ad076d711b04a8732baab59872e72b487ff', 'd98c7abec08395694f7e469a8780d5cb54c809ba', 'fd1a96bf89e420cbd65ffb26201f6e24c80f78b1', 'e5562c49e334d72b8e18f09b4453cbb3641439a6', '0830b5ff765953670157b7cdc8c9f0439ea4c2f0', '8038be425454bf3cc89802976654e93157894f79', 'b82c94bab6013453c2a0618f2079dff7c74599f0', '8c1022e54b28810ca20abb601328f1105f025125', '3abef8c80a5c697fcf7da4495bef26899ed13c77', 'c4f5e1f732f7ee646b58045d23643243abb561de', 'f87f5a30240064cd081f48e770b45aab18514ce5', 'a90a12b1d303da46ecb3f77b8efd0d03370a9e86', 'e0c4690cbdd89e8817e7a25bce072b1ddc9618a5', 'fc728676e4dc82722c03470810eb5e99c45455df', '4c7f3dcad92dcb7e625aeb61e3b79d2fdffccc93', '744c384772ec76b403094d3ee97d2d6e07d3e0c3', 'ac76f1fb38d2c9c27178cccc502c2be2cc5b9acf', '7bed03944a2a9fdcb6c700ff010de97fbd228531', '82c458f2e9bc30f87890b408e5b965114989edf4', '2dada43debe8b64a5d21c8bebb163ecd95b1bead', '37b97745b5649ca367aab9e4999528b470ecc692', 'd6dbb0578fe5baf513cad07fbf07801f89fd9313', '99d724639a1e51f53770236f24c87e2ca9126ec6', '07ca4e60b62326eeef7cff3bd95da257dc96b812', 'b5db90e2c9dea9fb4165306ecad777f008217a07', '035a958c64a727612259999cc9064470d6e71686', 'd36f8a8106e7f8f1dc111eb5cb5cc9dbe5ae07a9', '58fcc1ee8eb4bff5a9bedff6e7510f0167367c1a', '7a1e5f38af5197ee59857b48ac1eb2854e84a000', '2f03ae415b7efb7c015cdc79fa6166dcf1ddef32', '87fa091833add3a9b90404d4bae5d2cd709f632b', '790839cdd4ee24d5998952c1175848a51ec510a8', 'f34ffb77d1ca071bfa40fcf51fa5b716cd8f4219', 'fc7e6b0ab9b9ecd499369837f29ec8af3aa74489', '676b15a5009d95c9d1a04e648f3929bb567048a2', '2bf4aa323998874797bff1b9a7d4049e38c2e706', 'efa2438cc0dba26b71b88fbf2b4fc27641c9a902', 'f0e6465131672b18f8af68a9a47576922bd6623a', 'd0e43e3058cbd5a55ab57b5d367b154c35650419', 'ad363e5918401dacbc2a6531996464ffa73aeb66', '0e5d07af0ad1b25c2beb4f9c18d41f939c8cca97', 'e5dff6fc70a450e81305118e32e9225cf5f9af63', 'e843882b389e96078a7b94476d9d1e884bd812e7', 'eb7f101c8b52a56d0e73100f5dbbd609df79c620', '9116c65d75343f5ac19f27b2eb8b1b447855e2ba', '6ee0cdf5d59eb77c3a7cbaa453e6e1a8a982a165', '432dfe1916b7d911a857e38e61084affdfea6743', '7be8c5f4f3634531a71283e613dea6c85e0eacd5', 'd6837d433e0f6731840991046ea4db076c1060db', 'ed328acd96a4147df93f64586eb56103ffa26c5e', 'b0d281cac8d98319f8d4a6c0a2f1d31513cadc94', '5d5e0142e54c3bb7b69f548c2ee55066c90700eb', '592fff5b8822e495c4e31f8c86b38993a2327287', '55a33f397fe9ef6dde63f140ff47666bc7a9247b', '660a17d755041fa48dfed56e6ac9246b49021df1', '95e20b2c4f1259ebf5cf4b05cbe9e7f7b9b79f74', '1dd37d51b9998623083f5b276ba8e95fdf72a0d5', 'f1a5555ab79f8a31c8d79112f7be7a84349bf92f', 'ff9de5c42ae7797c4cdcfb04370e77c51c80beef', '382868b3daba2e6924877d39492079944e998b55', 'd7d64c6fb13c46eb48285ee79a164ba85ec5d52a', 'de94198175aeadef534c4584691817d154cb9d41', '98e6cb52d9f7b2db2cb9b5d4344188a64504ea66', 'd08fc0b2e67e4dc36b1b04397420a1cc2af137c0', '8584451eb3d5182afcbf9b5cc19e20e21f7cede2', 'c99946eb35e4afe71c11bc98fb5e5673a121db93', '34b81aa43033e52adc2cf70dd37ada8d615f4630', '31e5c19c5cb3a06cb2669a698bc60fae93b6ec10', '04b4566885d8ab14847033adcd7e287dfcd4a5cd', 'bdaba23f8e99fe6766d093d6849783e6316a500c', 'c1329a0da27e6ee4b09e570a71312111d4f0189c', 'fb6b38be0b4f0f8b4241cf92c63c140b9c3930d2', '18142d8258c86a7f92be79afaff23390a4fd527a', 'c6a107ef87bd4fe87e399b5cf1c8d1e9c49f18de', '9ae6728cbd759d2cd5ab4ccbdc1ee0b35331c78b', '086ec1b75b81368a614a2ffb73087e1ce4e5f008', '59cdfbf5b20ad2c01fcc0f91efae59d8cc193be3', '78bf7469c3ef2ed76a78dea14af5dc2eebd54244', '996f11d915ef300926aacaed53105cd0a7a1578d', '31ba2ce3ed47b193d0e8c3ba9bbc44f452542e38', 'b32fdca4a367caa65a19b7891e1766904fdc0dbe', '3ad8a10d38d8fb5a1947217c946f7091a12bd53b', 'b4ed2e915b089c7d8d75d129a868212816c73f87', 'ba21d60c0ee0a8fe17c37477f9428b19f69a6ee7', '83188c3328c10898012181b0f430519396f9f184', 'd730cc90a51b0624bcf9cac252dd9b7d988f27a3', '26d6c7829340fa21f4000f1204f9dc1352b18f34', 'd0394dab286f3ee6c5903055a3c4ffb21edf320a', '9cdfc2f12bb7591afefca28682345667f3bca6e4', ... ]"
      ]
     },
     "execution_count": 3,
     "metadata": {},
     "output_type": "execute_result"
    }
   ],
   "source": [
    "kanya_west = song_data[song_data['artist']=='Kanye West']['user_id'].unique()\n",
    "kanya_west"
   ]
  },
  {
   "cell_type": "code",
   "execution_count": 4,
   "metadata": {
    "collapsed": false
   },
   "outputs": [
    {
     "data": {
      "text/plain": [
       "dtype: str\n",
       "Rows: 2055\n",
       "['2f83b977e453424ef5cdf30eee294c9b486c14b5', 'dc4a6ab83084f5f1c858793fa22f1200d5b6c267', '83b1428917b47a6b130ed471b09033820be78a8c', 'a679cf5440acc6e78a993e9bcbb4a6efe81dbade', 'b15ee059ae7a157a470d0af05893c47ea725f07b', '63336e6e694361f57b6cae9f67bf5d793f86e1fb', '5c9f68452a0a591d1fa7987bf2465fa646b99788', 'fc1b68dc9b3f0dd8752dd27cf5abc72993d6f81b', 'd98c7abec08395694f7e469a8780d5cb54c809ba', '4a3a1ae2748f12f7ab921a47d6d79abf82e3e325', '9e4b6fcb7ad1e0c5926f6c45413f6c83cf1a100c', '73453446c77ec6d9f01804dd94b4548a1680e828', '086c322d595d3f629142f8e5910b31817733823c', 'e70c4dd69296c7c57f64feb49a4a2a19bf3f688e', '3ef3b81256a59364b46e99c805961a06f0939fc3', 'c54afaf09cbb8f05d272b386e868f914b59ba5c2', '66515166dc465cb51af511db9f6e708095af31a6', 'beff0717fa2318d3dfbace62fd5004a4ffe6bb4b', '632af0475de5f2d90838520df96e4b681a383114', '19e5a95edf18c44764d601beeb131a2bd1b247ff', '24041b27968ca2839adf7fc6e03548ba071ce404', 'af10bd301fc4c1183ba305287667adcff8ad2754', '7d5f8ab8b697a188fbc534e98cace16a33f2901d', '681d33f0830dd6ae7394771c3bbff59c61a5d47b', '9e47dcebaa4af46b192ff8cc1b5133b1d93fcce5', 'b41053464974bb6df6cabd2dd7a66039f182e9cb', '9cbd4087528bd598823380eb15a4b109776ae084', 'd95df4df9d6f25e76f13556ce6cf5b50f979c76c', 'a032fee95f9f828b36c58375117d4e984781b9cd', '2cc3314f90b8a3206a1ff3982d9195244f0504f0', '533baad1f1bb3d08a1ea7ab0deb4d7147feef100', '1f18fb56d94fd0200d1a873353d2bcf95732dfe4', 'cebb9b00eceaa17141515fe5e9b32fc70c3e546d', 'b30b98256090d709a11cbe6fa1e14eee6269dda3', 'd0e43e3058cbd5a55ab57b5d367b154c35650419', 'a6d1608c16c6a337a7271ec8cf4f392a656ebd43', '1165bd4ffa6b2f3f1a0d97d05d8f2c913465d7b5', '13239e5c03b7cb15ed6a2007920f2e5d36466af2', '62bf0a18d20aeedeba1ea7c237405926548fb580', 'c02a859df7a3f893cf6ec3eb1f3e1bdd6b6f3065', '5d58491b96ef89103bf791f5fa6e1759fdd5bae4', 'bb0a153116f7c1da935f25a0e36e2f79ddccf70d', 'b919f662b26957782fa1ea3543438edf53489ec7', 'cdc56c276751b2f52b19023591f50feb9c5492fb', '8a4dda75f8f820852dccd878ae2f725fd54d947d', 'c8529f95b292bad3a1d6ecaaa36f1d102b24598f', 'ca51216616cf1953ee93db8c54188a1eea1d5e6f', 'dbc6b70d02051fa6925fe7827be3316543c10537', 'f9a1582d246ba0f5da9231478e4e5d6a4252594d', '42678125453ec3c9d5789104d137209167b99864', 'f6255ef4f5df81d81ff98f9fde5f19e0b9e28613', 'f9d2599a999d601ad598fe0cb79b41329ba3d42c', 'ae2b2c60a34f0b8bea69014b11884dd813b372e7', '0f444d25c00457078dfab569fde81a2fba0e07d8', '3f2134287969603cc2578d6ca489335169a44726', '8c88450b68ebcace647cf0b4d25ec023a512c8ee', '822d61e5fe7d8b7b120e1fad28fce06a48db2255', '8ab12a0531093fb7180cbc53cf6466fc913370e9', '687b79cffcbc13475de4ba0415bd81cb13e807c9', '19e4bf53bf61f2348a2715ea99d3d0c416a51bf0', 'd2c662dab58b57d6438e664ed7ad411c64791efe', '1e8b32fed770c105c85284eeefdec5b5ec35dc43', 'd8ec21f7a9f3e119824fb00d0bc7a55c732b91ac', '34b81aa43033e52adc2cf70dd37ada8d615f4630', '910c3ec39e507397a7bc53c0a809d5169bb5121e', '06010bea94826f4b317ed734ef0e320364b7be39', 'd3036a899284146c078dd9a9ae7a275988e66160', 'ed7e3ce2630c93a14db6903303eb9f83f450bdc2', 'd40015a73d42ebcf52cc8dbd264b505e29413f8a', '94f1aa677069c65df6336e52d3b1109f40df7355', 'f4f925add608d3f12fe5f1f5400de45c49c079ef', 'e4f9cfac3c236a5f3680dba4beb094b2c277b6ac', '47bbbe92734df0478d78ab0c4d40312a65441db2', '8c4a88d04a71cafedeffa47b46d3ad44f523c0f4', '80c4b5d40a58d860855d7da4e6f718582f1ad3d4', '66493ff73e8b779feb276aceff1ced222df88df5', '1d442ffb52823c77fc57170122d93ca8cb437fff', '4a7a2bb6ceca48ada53f859763ea2aba05f49516', 'bbfd76f0f83cbee16e01e10f96434c792e6bbe0e', 'd056ed2b72bf6df2fab8392505f4c371bbc600cf', '3317977b0d3a0a4a3ce8b47ae22a75d62bca2a20', 'bc48186605c03b6edd9d83e60780d59f7bcbed23', 'bb8de589105003970f47e43ba9b38e2bc177a050', '90ee8cd336cc6817a489cbe6ac8a39679525cf78', '5a3cf22f71defc1e6f742bbabdab027c18697501', '5d16a09db904443b3cbd4c16e9079c2839e16462', 'd6eb3834db466dad7885fcb7068ba3e2da7ebb60', '8ae2144f2a548952acd034c29e584d6a570b18d0', 'b000c1f599f7bc1f4d6e4d4e6f1f2c56b17cd1f4', '4df851b2aa631d02e299b79156a12d9581a9ab9f', '1dffe28ee99b38380b01e8b396308735313d3a6c', '76781a987bd206a5a5581f843bd2363225fb4a18', '01760db414051d3e0b78a1f8b4720bb2e4ad23b9', '81b019d5f7a3a2e821f82a89ff8f86d2a4878c06', '8e560b427cb35f48ff51b5cc8b9f83672af25b1e', '2d4ad61af83635253d4a871bf0ddb1858c6154f0', 'a327bf5904dbdc7219e60c194bc1adac33a228c5', '96cb0a4644362aed45368694c19e8f9f95ec0689', '1dc85444045a3cc5ee71db55ace50951f34a6fba', 'a49644bcc05b0f5e7d48b4b00cd61910d3d0a6c4', ... ]"
      ]
     },
     "execution_count": 4,
     "metadata": {},
     "output_type": "execute_result"
    }
   ],
   "source": [
    "foo_fighters = song_data[song_data['artist']=='Foo Fighters']['user_id'].unique()\n",
    "foo_fighters"
   ]
  },
  {
   "cell_type": "code",
   "execution_count": 5,
   "metadata": {
    "collapsed": false
   },
   "outputs": [
    {
     "data": {
      "text/plain": [
       "dtype: str\n",
       "Rows: 3246\n",
       "['02f015d32ac2cd1e52d26e3ec36048711dd5711b', '968f1baebc490d3c6999ee6c85c5cab8b726b347', 'c990ef95bf4e44edaf6a1e26532f10134ef83e82', '8a8eb87dc4de1a671451e4f6745739c77b97c202', '63336e6e694361f57b6cae9f67bf5d793f86e1fb', '527d6df52b319731ad76e79559f9aa71e4514312', '360b4499ebb6a98afbcfe95377ff8709eb95faac', '58c274c4259b679275405db9bf2e914f6d0e3168', '205cdc4e6dbcb522082b9dc1d93b827af488e399', '8b8bb34eac7c85cb0ba36827cf519a0487d79371', 'b8474ad076d711b04a8732baab59872e72b487ff', 'd99ead40aad574d76c8c1121d0a0b3420987ab2a', '62c4bf887b7b1e5cf6ab62723481099c7f98377e', 'e0039fa2e1d0c51c729d2521a48eccc52a375cc2', 'fe734c3bfe1ee5866a4de4d589d8ed44c497fe44', 'b7b5408ba99a68a4d8d9df6007e8516a8fabb43f', 'd2d3531b28105d17745b0bfd4d05e382b978782e', '92337c69d4ff1c13f5c9ad4e9c62a0654be9d230', 'e8813fe73c90d69b4f744251c68fce896ec2aede', '61953c2d342b1c2a4783c90f666472092b7e3b39', '73b81196e7429ef73636704acf70fa5cb22e0294', 'a558facade7c856f056b13692c348ad22c624633', '1398bef19b8acf53f8213d1b5d7842001bae1f92', 'affe67dcd8452def0784688df632cbf53b4c66c6', 'b82c94bab6013453c2a0618f2079dff7c74599f0', '849b5b6042d0ea4987a8115359ec6561b11e02f3', '7906b560bae5f8b3eb5d7f78ae65dbe94f248f4d', 'bed8353cad4128fbe1cbd73a47f8b1ea031aea27', '8b46ff34ca4e56f7332775f14eab898eeb23294f', '0c7c8f637d712dd029c48f9362464451c75b02c6', '02a898aab6609c477535af8a92036687d17b75c7', 'd6dbb0578fe5baf513cad07fbf07801f89fd9313', '81288684a6ccfc5f7d28a8fad17f896998f3f007', '5d55e0bebd46ac419e4e0fbacfee57602fe8cc1f', '9cbd4087528bd598823380eb15a4b109776ae084', '08698dcb702ef3b79c57ab3027e6e3db8a6df526', '1c765481d4103de594ce8292b199cf7ce5aaf696', '56dd181814f67cac489d51c5828f2905c165db47', '9232eeaa942af2ff3f3e2b90f996d3ad003e4b31', '13728a9bd30a2aa451a849173ac7609417b0b563', '41787ce6600a8dd9579377ae90e21bec3b65a09a', '88c4a09085538ff1d25405ea2bcf97cad800af3b', 'f33724026f542fdaab1b1420cda9662e4645af66', '55a1486b253e0b2d60e24232c3f60e466f2f2c93', 'e7f52e05379405efb9f37186d344f01648237a16', 'd0e43e3058cbd5a55ab57b5d367b154c35650419', 'c3efaaaa66125a93ead120d355d7e3144533db49', '940334569a2e789056cf206864cededc4f5b0735', '8f1b504da0a60e0f7d5341bf8edbbfec577e414d', 'b367f6b641d0bc3cfee4a0d38413bafcc793fcf7', 'b3bda43148fb16602e0839344c7e4ae82277b68c', '5138d8bfd5555fdc41952cd6aed1effe3c848b68', '6a37f8118af2f2ac3a9acf220fc3d5c5bd20b084', 'b30acda091a5718ef2ac7acc72595a10ab0de109', '1a6ef6fe2dda0c9c3aeea807d4bcb3b82a274683', 'a1cb5916ce849c3ffda1c2ce3466a8afade7de54', 'b6c6617585b3b80edb02c5df9b161bb28000478a', '9fd616a80b94d0b0f4b1dd438eae250e6fab9bfb', '4acdfe66df8762acd72f6a3663f115cfd2b60bde', 'f9a1582d246ba0f5da9231478e4e5d6a4252594d', 'a524412eec443a0560c3e4e7c25ae7729f2e8f6b', '5d5e0142e54c3bb7b69f548c2ee55066c90700eb', 'be4f72f876ffa7ef83d17788a9b4def9a905da73', '9c9fa2abc2ede71089c682f06ec9626c3e6cfa04', '56df8017a3210df0806714dd7ca43755b33b27a1', '235febf13cc398b35d117812c83bd689632559b6', 'e7efda75b906b247d4c78d957cde9fe2998b2361', '1d78cca2d2fa9c19bc9f73e721136fbebb2d8ed5', '34ab060bf8ef3c3708ef66c60b5e025f5c6d083c', '6e3ebb2bdfe842fd2aee6d74ec4fd1a41d56d142', '91ab0be9a4d9c9ef3e38f7c9b21507d672c7bf11', '4d7b263e00678587c92a381904862c258c995f3a', '0427a32b3c7cee90eadbeb0a11349bb5c7ab286e', '32eb4cf06dbd991c75fdbb20f4f41eb292d26d6a', '8ab12a0531093fb7180cbc53cf6466fc913370e9', '0a20576ead7f1849c267027ad27a8b68c267e1f9', 'ae373176da519cf3917bf18af9b0f5d12346b96c', '9e02b9e44467fbe8fdca3c5724cba7cb34d55a1b', '0ae0a5708a2e924132dfc636ea5168ca68dede91', '216614c8f24ac86dcd5c935e7fb8771d76650ab9', '5def07ddb6c6935e2eb4d61d8ecb767e1533919a', '97bb3ea44ec68055e18e9ec3cd36316571c83ba0', 'b42188fb9d386943f5db00f71b4ef6d9f589e23a', '06010bea94826f4b317ed734ef0e320364b7be39', '85b837eb14effa23e3e7a41ca9e812d4e8d32e2c', 'bbbdbcecf3130d9975abae71581e362a100bde2f', '0998c6d0bc4a7ae29bd2835f36c8d38bb8245dab', 'bdaba23f8e99fe6766d093d6849783e6316a500c', '5fcc6dc3f10c59c285e7be96a93ccf78aec78200', '645a71077552e42572a9472eb41ec1f5d192e7b3', '9b8ca75bf3eafca09c69ad0f0c38bfe0cbab387b', '6e1807de2afc4221553409949926f23e36e9a4e8', 'a528763f37c5ba598fa746f04743efe5e4ea2c1c', 'f137d974407d04a1449fc58239538293753bd64d', 'd409fff14deb776ab65d41073078ba62eb64af7c', '4a7a2bb6ceca48ada53f859763ea2aba05f49516', '93a90328476ae7317bcb345e1ee81ed426a9c55f', '87c3ca32d1f6d7ccd66a1288b4ecc60b74983867', 'a68082b4e4e5c9260691905be4a2859a91eba0d6', '04ed7af8050e3d8b16fa5a93747e24c0f7fbc98d', ... ]"
      ]
     },
     "execution_count": 5,
     "metadata": {},
     "output_type": "execute_result"
    }
   ],
   "source": [
    "taylor_swift = song_data[song_data['artist']=='Taylor Swift']['user_id'].unique()\n",
    "taylor_swift"
   ]
  },
  {
   "cell_type": "code",
   "execution_count": 6,
   "metadata": {
    "collapsed": false
   },
   "outputs": [
    {
     "data": {
      "text/plain": [
       "dtype: str\n",
       "Rows: 2928\n",
       "['b048033af070b5dbb18d5d0e5f334c9390611b04', '86cd257d027a7db9cf38fcaf2518d31477e7cd8e', '0ecb1f480ebb237dc7821c898c94219cdfe38789', '7ad06615d118067e1bf973aa86c672874e0eb78f', 'eff9b08d4e5ef36056e9737e6bde223099b4dc1f', 'b2b08a84654f90585e0dc3c5155d330fb8e4ba59', '49f061b5224686ede04a1ca1e9927568bdc98e98', '360b4499ebb6a98afbcfe95377ff8709eb95faac', '2e9cbd200d67910aeb97b36efe9cd4341cc06030', 'a9f3ad740bc474a6490b4e2b77c18919e6f4077b', 'fe85b96ba1983219b296f6b4869dd29eb2b72ff9', 'b0a570c42ba00edff4804f5d63916021ecfbd23c', '8db9466ee96d02c3b1fd16ef5cc9ee6a242b2d32', 'e132e16e64f99edc3a674f823ce241da8dfbda21', '42fb07aaed4ccf666fa8a81dc38ff13ec106f896', '6b17deda6a5e5f22005e3aebc007e74c2574c7df', '8038be425454bf3cc89802976654e93157894f79', 'd2d3531b28105d17745b0bfd4d05e382b978782e', 'e8813fe73c90d69b4f744251c68fce896ec2aede', 'c659fdffa2e3d85c3b57a99cef8dc822e7cc0e99', 'd58c586df4a98ff73558fc152544dd3e3335f4c1', '090e635812d596bd980db8abc8226413441d8144', 'e70c4dd69296c7c57f64feb49a4a2a19bf3f688e', '38b77950a0d776effcdd6a7c101cc4d008059885', '4a6c404b2726ea68403d998be9c5118a0e91ca72', '237bf574e40687f05dc24425c3a842be9799b66c', '3cea6c2878acf2f2996f98424d7f656adfaa2f6a', '7906b560bae5f8b3eb5d7f78ae65dbe94f248f4d', 'de5b7f935683035a6cde7f5886254fd293a73869', '531bbf65b9fd21d4e56d837def9399f304691207', '181d9c254ff957a396b8bbcec10228f84cfa5c2c', '0c7c8f637d712dd029c48f9362464451c75b02c6', 'ad3e5d8acd955dd709794043e7ae02a85df12d65', 'efad1bd178aa3996d6fd40412ca0e5af4794e983', '3a829c9fa2a7b69f4067260200d35cc1af84020d', '5c4632b90bed9b1c69573f1de1c8d6dee1eb8d0c', '9232eeaa942af2ff3f3e2b90f996d3ad003e4b31', '48315fdbceba830680c924d8806cff317c6798c6', '5264bce396b58ba18b13fa8bc692b9e13095b238', '8b99a6e110a174b180530795a4df8e256c532867', '2ef5361054d5f4da80de8d59e767096cfe1d4e0e', 'e88b2b1634cb6eda988cd415a2da2a8912af3b85', 'a57d0e93327e03ba4f39cfdd633dbcb2b4f526f6', 'f33724026f542fdaab1b1420cda9662e4645af66', 'a591b0226d9bfb3a3e305a440c13b86ae02f1c0e', '360dbe2774e33f17c101325a3b8514fd175ea433', 'b3bda43148fb16602e0839344c7e4ae82277b68c', '4efd7650a476a016e4a65b0df7e640f239032b3c', '6a37f8118af2f2ac3a9acf220fc3d5c5bd20b084', 'e6c062e89adaeae1220d5157c0db88d0c4395a0e', '3153ff8ae38d4c4bed62fd2f812247e9e4e4b498', '427f79a4116066653aa6959974f8a5986c2a8459', '6ee0cdf5d59eb77c3a7cbaa453e6e1a8a982a165', 'a1cb5916ce849c3ffda1c2ce3466a8afade7de54', '14efbbcce44d29898eeb8f90dc90058435b2abea', '9fd616a80b94d0b0f4b1dd438eae250e6fab9bfb', '21061b3af26cd9d0ac1c43cc9bc22d7416ff65f4', 'b0d281cac8d98319f8d4a6c0a2f1d31513cadc94', 'd1933cf64c3950a90a6bf56d0587c9a3dc2f13ab', '358382780371437a861b90ff4f33022b30615b58', '1afe7ec6f8aadcc264717ca2be223db9e7bf6ba5', '235febf13cc398b35d117812c83bd689632559b6', 'e4006c24d8a66fe85e825f8d4b0a9078be1b9204', '6624f36095298f863d55de088abd1872e265756c', 'fa34b04be0338811ccaae543e0ea5f7f2573f23d', '64db7e5580fb973cbcd9eca0532bd23f746c308a', '4d7b263e00678587c92a381904862c258c995f3a', 'd7dd2fe57d2be62b0a2fd86b832bd26a495afaf0', '1495865b077beebccabb949ce3ef4cbdaa35847b', '7d434a78c88e3d073e89a8bc00c314e9242d3d4b', 'db66a2159e681457517e5e7ddec88e89f8bdf934', 'dab6c78075d5022e71b66150252411ebcbe54d93', '3a472c895a3ee2d99a2bffe10769235131de5bce', '216614c8f24ac86dcd5c935e7fb8771d76650ab9', '8ff780d7f6c9e406e85603ecd804f8de42f0efc7', '751d4245454f7d7600ddbb355e6e5212af2f1ddd', '7717fe4c7c003887cce5a09d6eb1d8e739ac5d62', '90182c2fff16adc1d0ef229f39ff963cf37a6615', 'dbefed38a75a3f73e79262227c531a07e8c1c75c', '0eadf9d469ae84816a49a1d8dbcb72f2acb33e6e', '15596405a3b22023bbd3965cc6329cdae8e475b1', 'f718f28d41ab8eb427672573453e7a7ffbc0099e', '47bbbe92734df0478d78ab0c4d40312a65441db2', 'da461eca59900587f60f9111bf743cc3ec6036df', '9b8ca75bf3eafca09c69ad0f0c38bfe0cbab387b', '57be59aea99414a297899a04fb469f7b46592fc4', '35fbe3f3e5e96b4cd5bb33deefc7b1fbbffb51c3', '4a7a2bb6ceca48ada53f859763ea2aba05f49516', 'bbfd76f0f83cbee16e01e10f96434c792e6bbe0e', '1435dca01d4deae5eeba7841bbcd4798e92cec42', 'b2a8aa30c4202cdfd80e2cd89af311370529f340', '587d72d47d50a6940a78ff3fcd91caf8d4054c6a', '01d0c35c708e058edbee31074dd1752930500b5c', '09b99937f1b90425c490321ec3027251eccfac3d', '5fcf53abcff2865b62abea416fb3006e442844b0', '05f226ee64b3233ce188010025e23464f780d821', '178a1b3b64f4d24983bc97b6651067ad9f504860', 'd2f6e3542854934ecb56c3083f6a74c2b259d367', '0f0182cafb8d8d3c4c384aedb1a0d316c602ed7d', '2f46eb8ef4cfe8ed86c869e393ea5ce0eaaee461', ... ]"
      ]
     },
     "execution_count": 6,
     "metadata": {},
     "output_type": "execute_result"
    }
   ],
   "source": [
    "lady_gaga = song_data[song_data['artist']=='Lady GaGa']['user_id'].unique()\n",
    "lady_gaga"
   ]
  },
  {
   "cell_type": "code",
   "execution_count": 15,
   "metadata": {
    "collapsed": false
   },
   "outputs": [],
   "source": [
    "artist_count = song_data.groupby(key_columns='artist', operations={'total_count': graphlab.aggregate.SUM('listen_count')})"
   ]
  },
  {
   "cell_type": "code",
   "execution_count": 16,
   "metadata": {
    "collapsed": false
   },
   "outputs": [
    {
     "data": {
      "text/html": [
       "<div style=\"max-height:1000px;max-width:1500px;overflow:auto;\"><table frame=\"box\" rules=\"cols\">\n",
       "    <tr>\n",
       "        <th style=\"padding-left: 1em; padding-right: 1em; text-align: center\">artist</th>\n",
       "        <th style=\"padding-left: 1em; padding-right: 1em; text-align: center\">total_count</th>\n",
       "    </tr>\n",
       "    <tr>\n",
       "        <td style=\"padding-left: 1em; padding-right: 1em; text-align: center; vertical-align: top\">The Dells</td>\n",
       "        <td style=\"padding-left: 1em; padding-right: 1em; text-align: center; vertical-align: top\">274</td>\n",
       "    </tr>\n",
       "    <tr>\n",
       "        <td style=\"padding-left: 1em; padding-right: 1em; text-align: center; vertical-align: top\">Tag Team</td>\n",
       "        <td style=\"padding-left: 1em; padding-right: 1em; text-align: center; vertical-align: top\">314</td>\n",
       "    </tr>\n",
       "    <tr>\n",
       "        <td style=\"padding-left: 1em; padding-right: 1em; text-align: center; vertical-align: top\">Danger Doom</td>\n",
       "        <td style=\"padding-left: 1em; padding-right: 1em; text-align: center; vertical-align: top\">561</td>\n",
       "    </tr>\n",
       "    <tr>\n",
       "        <td style=\"padding-left: 1em; padding-right: 1em; text-align: center; vertical-align: top\">Rata Blanca</td>\n",
       "        <td style=\"padding-left: 1em; padding-right: 1em; text-align: center; vertical-align: top\">714</td>\n",
       "    </tr>\n",
       "    <tr>\n",
       "        <td style=\"padding-left: 1em; padding-right: 1em; text-align: center; vertical-align: top\">The Pogues</td>\n",
       "        <td style=\"padding-left: 1em; padding-right: 1em; text-align: center; vertical-align: top\">141</td>\n",
       "    </tr>\n",
       "    <tr>\n",
       "        <td style=\"padding-left: 1em; padding-right: 1em; text-align: center; vertical-align: top\">Diana Ross</td>\n",
       "        <td style=\"padding-left: 1em; padding-right: 1em; text-align: center; vertical-align: top\">302</td>\n",
       "    </tr>\n",
       "    <tr>\n",
       "        <td style=\"padding-left: 1em; padding-right: 1em; text-align: center; vertical-align: top\">Kurtis Blow</td>\n",
       "        <td style=\"padding-left: 1em; padding-right: 1em; text-align: center; vertical-align: top\">239</td>\n",
       "    </tr>\n",
       "    <tr>\n",
       "        <td style=\"padding-left: 1em; padding-right: 1em; text-align: center; vertical-align: top\">Uniikki</td>\n",
       "        <td style=\"padding-left: 1em; padding-right: 1em; text-align: center; vertical-align: top\">429</td>\n",
       "    </tr>\n",
       "    <tr>\n",
       "        <td style=\"padding-left: 1em; padding-right: 1em; text-align: center; vertical-align: top\">Make the Girl Dance</td>\n",
       "        <td style=\"padding-left: 1em; padding-right: 1em; text-align: center; vertical-align: top\">378</td>\n",
       "    </tr>\n",
       "    <tr>\n",
       "        <td style=\"padding-left: 1em; padding-right: 1em; text-align: center; vertical-align: top\">Jorge Gonzalez</td>\n",
       "        <td style=\"padding-left: 1em; padding-right: 1em; text-align: center; vertical-align: top\">682</td>\n",
       "    </tr>\n",
       "</table>\n",
       "[10 rows x 2 columns]<br/>\n",
       "</div>"
      ],
      "text/plain": [
       "Columns:\n",
       "\tartist\tstr\n",
       "\ttotal_count\tint\n",
       "\n",
       "Rows: 10\n",
       "\n",
       "Data:\n",
       "+---------------------+-------------+\n",
       "|        artist       | total_count |\n",
       "+---------------------+-------------+\n",
       "|      The Dells      |     274     |\n",
       "|       Tag Team      |     314     |\n",
       "|     Danger Doom     |     561     |\n",
       "|     Rata Blanca     |     714     |\n",
       "|      The Pogues     |     141     |\n",
       "|      Diana Ross     |     302     |\n",
       "|     Kurtis Blow     |     239     |\n",
       "|       Uniikki       |     429     |\n",
       "| Make the Girl Dance |     378     |\n",
       "|    Jorge Gonzalez   |     682     |\n",
       "+---------------------+-------------+\n",
       "[10 rows x 2 columns]"
      ]
     },
     "execution_count": 16,
     "metadata": {},
     "output_type": "execute_result"
    }
   ],
   "source": [
    "artist_count.head()"
   ]
  },
  {
   "cell_type": "code",
   "execution_count": 20,
   "metadata": {
    "collapsed": false
   },
   "outputs": [],
   "source": [
    "artist_count = artist_count.sort('total_count')"
   ]
  },
  {
   "cell_type": "code",
   "execution_count": 21,
   "metadata": {
    "collapsed": false
   },
   "outputs": [
    {
     "data": {
      "text/plain": [
       "'Kings Of Leon'"
      ]
     },
     "execution_count": 21,
     "metadata": {},
     "output_type": "execute_result"
    }
   ],
   "source": [
    "most_popular = artist_count['artist'][-1]\n",
    "most_popular"
   ]
  },
  {
   "cell_type": "code",
   "execution_count": 22,
   "metadata": {
    "collapsed": false
   },
   "outputs": [
    {
     "data": {
      "text/plain": [
       "'William Tabbert'"
      ]
     },
     "execution_count": 22,
     "metadata": {},
     "output_type": "execute_result"
    }
   ],
   "source": [
    "least_popular = artist_count['artist'][0]\n",
    "least_popular"
   ]
  },
  {
   "cell_type": "code",
   "execution_count": 23,
   "metadata": {
    "collapsed": true
   },
   "outputs": [],
   "source": [
    "train_data,test_data = song_data.random_split(.8,seed=0)"
   ]
  },
  {
   "cell_type": "code",
   "execution_count": 24,
   "metadata": {
    "collapsed": false
   },
   "outputs": [
    {
     "data": {
      "text/html": [
       "<pre>Recsys training: model = item_similarity</pre>"
      ],
      "text/plain": [
       "Recsys training: model = item_similarity"
      ]
     },
     "metadata": {},
     "output_type": "display_data"
    },
    {
     "data": {
      "text/html": [
       "<pre>Warning: Ignoring columns song_id, listen_count, title, artist;</pre>"
      ],
      "text/plain": [
       "Warning: Ignoring columns song_id, listen_count, title, artist;"
      ]
     },
     "metadata": {},
     "output_type": "display_data"
    },
    {
     "data": {
      "text/html": [
       "<pre>    To use one of these as a target column, set target = <column_name></pre>"
      ],
      "text/plain": [
       "    To use one of these as a target column, set target = <column_name>"
      ]
     },
     "metadata": {},
     "output_type": "display_data"
    },
    {
     "data": {
      "text/html": [
       "<pre>    and use a method that allows the use of a target.</pre>"
      ],
      "text/plain": [
       "    and use a method that allows the use of a target."
      ]
     },
     "metadata": {},
     "output_type": "display_data"
    },
    {
     "data": {
      "text/html": [
       "<pre>Preparing data set.</pre>"
      ],
      "text/plain": [
       "Preparing data set."
      ]
     },
     "metadata": {},
     "output_type": "display_data"
    },
    {
     "data": {
      "text/html": [
       "<pre>    Data has 893580 observations with 66085 users and 9952 items.</pre>"
      ],
      "text/plain": [
       "    Data has 893580 observations with 66085 users and 9952 items."
      ]
     },
     "metadata": {},
     "output_type": "display_data"
    },
    {
     "data": {
      "text/html": [
       "<pre>    Data prepared in: 2.2893s</pre>"
      ],
      "text/plain": [
       "    Data prepared in: 2.2893s"
      ]
     },
     "metadata": {},
     "output_type": "display_data"
    },
    {
     "data": {
      "text/html": [
       "<pre>Training model from provided data.</pre>"
      ],
      "text/plain": [
       "Training model from provided data."
      ]
     },
     "metadata": {},
     "output_type": "display_data"
    },
    {
     "data": {
      "text/html": [
       "<pre>Gathering per-item and per-user statistics.</pre>"
      ],
      "text/plain": [
       "Gathering per-item and per-user statistics."
      ]
     },
     "metadata": {},
     "output_type": "display_data"
    },
    {
     "data": {
      "text/html": [
       "<pre>+--------------------------------+------------+</pre>"
      ],
      "text/plain": [
       "+--------------------------------+------------+"
      ]
     },
     "metadata": {},
     "output_type": "display_data"
    },
    {
     "data": {
      "text/html": [
       "<pre>| Elapsed Time (Item Statistics) | % Complete |</pre>"
      ],
      "text/plain": [
       "| Elapsed Time (Item Statistics) | % Complete |"
      ]
     },
     "metadata": {},
     "output_type": "display_data"
    },
    {
     "data": {
      "text/html": [
       "<pre>+--------------------------------+------------+</pre>"
      ],
      "text/plain": [
       "+--------------------------------+------------+"
      ]
     },
     "metadata": {},
     "output_type": "display_data"
    },
    {
     "data": {
      "text/html": [
       "<pre>| 5.474ms                        | 1.5        |</pre>"
      ],
      "text/plain": [
       "| 5.474ms                        | 1.5        |"
      ]
     },
     "metadata": {},
     "output_type": "display_data"
    },
    {
     "data": {
      "text/html": [
       "<pre>| 122.961ms                      | 100        |</pre>"
      ],
      "text/plain": [
       "| 122.961ms                      | 100        |"
      ]
     },
     "metadata": {},
     "output_type": "display_data"
    },
    {
     "data": {
      "text/html": [
       "<pre>+--------------------------------+------------+</pre>"
      ],
      "text/plain": [
       "+--------------------------------+------------+"
      ]
     },
     "metadata": {},
     "output_type": "display_data"
    },
    {
     "data": {
      "text/html": [
       "<pre>Setting up lookup tables.</pre>"
      ],
      "text/plain": [
       "Setting up lookup tables."
      ]
     },
     "metadata": {},
     "output_type": "display_data"
    },
    {
     "data": {
      "text/html": [
       "<pre>Processing data in one pass using dense lookup tables.</pre>"
      ],
      "text/plain": [
       "Processing data in one pass using dense lookup tables."
      ]
     },
     "metadata": {},
     "output_type": "display_data"
    },
    {
     "data": {
      "text/html": [
       "<pre>+-------------------------------------+------------------+-----------------+</pre>"
      ],
      "text/plain": [
       "+-------------------------------------+------------------+-----------------+"
      ]
     },
     "metadata": {},
     "output_type": "display_data"
    },
    {
     "data": {
      "text/html": [
       "<pre>| Elapsed Time (Constructing Lookups) | Total % Complete | Items Processed |</pre>"
      ],
      "text/plain": [
       "| Elapsed Time (Constructing Lookups) | Total % Complete | Items Processed |"
      ]
     },
     "metadata": {},
     "output_type": "display_data"
    },
    {
     "data": {
      "text/html": [
       "<pre>+-------------------------------------+------------------+-----------------+</pre>"
      ],
      "text/plain": [
       "+-------------------------------------+------------------+-----------------+"
      ]
     },
     "metadata": {},
     "output_type": "display_data"
    },
    {
     "data": {
      "text/html": [
       "<pre>| 3.72s                               | 0                | 0               |</pre>"
      ],
      "text/plain": [
       "| 3.72s                               | 0                | 0               |"
      ]
     },
     "metadata": {},
     "output_type": "display_data"
    },
    {
     "data": {
      "text/html": [
       "<pre>| 4.72s                               | 56.5             | 5629            |</pre>"
      ],
      "text/plain": [
       "| 4.72s                               | 56.5             | 5629            |"
      ]
     },
     "metadata": {},
     "output_type": "display_data"
    },
    {
     "data": {
      "text/html": [
       "<pre>| 6.12s                               | 100              | 9952            |</pre>"
      ],
      "text/plain": [
       "| 6.12s                               | 100              | 9952            |"
      ]
     },
     "metadata": {},
     "output_type": "display_data"
    },
    {
     "data": {
      "text/html": [
       "<pre>+-------------------------------------+------------------+-----------------+</pre>"
      ],
      "text/plain": [
       "+-------------------------------------+------------------+-----------------+"
      ]
     },
     "metadata": {},
     "output_type": "display_data"
    },
    {
     "data": {
      "text/html": [
       "<pre>Finalizing lookup tables.</pre>"
      ],
      "text/plain": [
       "Finalizing lookup tables."
      ]
     },
     "metadata": {},
     "output_type": "display_data"
    },
    {
     "data": {
      "text/html": [
       "<pre>Generating candidate set for working with new users.</pre>"
      ],
      "text/plain": [
       "Generating candidate set for working with new users."
      ]
     },
     "metadata": {},
     "output_type": "display_data"
    },
    {
     "data": {
      "text/html": [
       "<pre>Finished training in 7.28987s</pre>"
      ],
      "text/plain": [
       "Finished training in 7.28987s"
      ]
     },
     "metadata": {},
     "output_type": "display_data"
    }
   ],
   "source": [
    "personalized_model = graphlab.item_similarity_recommender.create(train_data,\n",
    "                                                                user_id='user_id',\n",
    "                                                                item_id='song')"
   ]
  },
  {
   "cell_type": "code",
   "execution_count": 25,
   "metadata": {
    "collapsed": true
   },
   "outputs": [],
   "source": [
    "subset_test_users = test_data['user_id'].unique()[0:10000]"
   ]
  },
  {
   "cell_type": "code",
   "execution_count": 27,
   "metadata": {
    "collapsed": false
   },
   "outputs": [
    {
     "data": {
      "text/html": [
       "<pre>recommendations finished on 1000/10000 queries. users per second: 746.132</pre>"
      ],
      "text/plain": [
       "recommendations finished on 1000/10000 queries. users per second: 746.132"
      ]
     },
     "metadata": {},
     "output_type": "display_data"
    },
    {
     "data": {
      "text/html": [
       "<pre>recommendations finished on 2000/10000 queries. users per second: 739.921</pre>"
      ],
      "text/plain": [
       "recommendations finished on 2000/10000 queries. users per second: 739.921"
      ]
     },
     "metadata": {},
     "output_type": "display_data"
    },
    {
     "data": {
      "text/html": [
       "<pre>recommendations finished on 3000/10000 queries. users per second: 747.427</pre>"
      ],
      "text/plain": [
       "recommendations finished on 3000/10000 queries. users per second: 747.427"
      ]
     },
     "metadata": {},
     "output_type": "display_data"
    },
    {
     "data": {
      "text/html": [
       "<pre>recommendations finished on 4000/10000 queries. users per second: 750.938</pre>"
      ],
      "text/plain": [
       "recommendations finished on 4000/10000 queries. users per second: 750.938"
      ]
     },
     "metadata": {},
     "output_type": "display_data"
    },
    {
     "data": {
      "text/html": [
       "<pre>recommendations finished on 5000/10000 queries. users per second: 752.437</pre>"
      ],
      "text/plain": [
       "recommendations finished on 5000/10000 queries. users per second: 752.437"
      ]
     },
     "metadata": {},
     "output_type": "display_data"
    },
    {
     "data": {
      "text/html": [
       "<pre>recommendations finished on 6000/10000 queries. users per second: 753.877</pre>"
      ],
      "text/plain": [
       "recommendations finished on 6000/10000 queries. users per second: 753.877"
      ]
     },
     "metadata": {},
     "output_type": "display_data"
    },
    {
     "data": {
      "text/html": [
       "<pre>recommendations finished on 7000/10000 queries. users per second: 752.347</pre>"
      ],
      "text/plain": [
       "recommendations finished on 7000/10000 queries. users per second: 752.347"
      ]
     },
     "metadata": {},
     "output_type": "display_data"
    },
    {
     "data": {
      "text/html": [
       "<pre>recommendations finished on 8000/10000 queries. users per second: 757.011</pre>"
      ],
      "text/plain": [
       "recommendations finished on 8000/10000 queries. users per second: 757.011"
      ]
     },
     "metadata": {},
     "output_type": "display_data"
    },
    {
     "data": {
      "text/html": [
       "<pre>recommendations finished on 9000/10000 queries. users per second: 757.763</pre>"
      ],
      "text/plain": [
       "recommendations finished on 9000/10000 queries. users per second: 757.763"
      ]
     },
     "metadata": {},
     "output_type": "display_data"
    },
    {
     "data": {
      "text/html": [
       "<pre>recommendations finished on 10000/10000 queries. users per second: 761.741</pre>"
      ],
      "text/plain": [
       "recommendations finished on 10000/10000 queries. users per second: 761.741"
      ]
     },
     "metadata": {},
     "output_type": "display_data"
    }
   ],
   "source": [
    "recommendations = personalized_model.recommend(subset_test_users,k=1)"
   ]
  },
  {
   "cell_type": "code",
   "execution_count": 30,
   "metadata": {
    "collapsed": false
   },
   "outputs": [
    {
     "data": {
      "text/html": [
       "<div style=\"max-height:1000px;max-width:1500px;overflow:auto;\"><table frame=\"box\" rules=\"cols\">\n",
       "    <tr>\n",
       "        <th style=\"padding-left: 1em; padding-right: 1em; text-align: center\">song</th>\n",
       "        <th style=\"padding-left: 1em; padding-right: 1em; text-align: center\">count</th>\n",
       "    </tr>\n",
       "    <tr>\n",
       "        <td style=\"padding-left: 1em; padding-right: 1em; text-align: center; vertical-align: top\">Undo - Björk</td>\n",
       "        <td style=\"padding-left: 1em; padding-right: 1em; text-align: center; vertical-align: top\">453</td>\n",
       "    </tr>\n",
       "    <tr>\n",
       "        <td style=\"padding-left: 1em; padding-right: 1em; text-align: center; vertical-align: top\">Secrets - OneRepublic</td>\n",
       "        <td style=\"padding-left: 1em; padding-right: 1em; text-align: center; vertical-align: top\">375</td>\n",
       "    </tr>\n",
       "    <tr>\n",
       "        <td style=\"padding-left: 1em; padding-right: 1em; text-align: center; vertical-align: top\">Revelry - Kings Of Leon</td>\n",
       "        <td style=\"padding-left: 1em; padding-right: 1em; text-align: center; vertical-align: top\">227</td>\n",
       "    </tr>\n",
       "    <tr>\n",
       "        <td style=\"padding-left: 1em; padding-right: 1em; text-align: center; vertical-align: top\">You're The One - Dwight<br>Yoakam ...</td>\n",
       "        <td style=\"padding-left: 1em; padding-right: 1em; text-align: center; vertical-align: top\">166</td>\n",
       "    </tr>\n",
       "    <tr>\n",
       "        <td style=\"padding-left: 1em; padding-right: 1em; text-align: center; vertical-align: top\">Fireflies - Charttraxx<br>Karaoke ...</td>\n",
       "        <td style=\"padding-left: 1em; padding-right: 1em; text-align: center; vertical-align: top\">127</td>\n",
       "    </tr>\n",
       "    <tr>\n",
       "        <td style=\"padding-left: 1em; padding-right: 1em; text-align: center; vertical-align: top\">Hey_ Soul Sister - Train</td>\n",
       "        <td style=\"padding-left: 1em; padding-right: 1em; text-align: center; vertical-align: top\">107</td>\n",
       "    </tr>\n",
       "    <tr>\n",
       "        <td style=\"padding-left: 1em; padding-right: 1em; text-align: center; vertical-align: top\">Horn Concerto No. 4 in E<br>flat K495: II. Romance ...</td>\n",
       "        <td style=\"padding-left: 1em; padding-right: 1em; text-align: center; vertical-align: top\">96</td>\n",
       "    </tr>\n",
       "    <tr>\n",
       "        <td style=\"padding-left: 1em; padding-right: 1em; text-align: center; vertical-align: top\">Sehr kosmisch - Harmonia</td>\n",
       "        <td style=\"padding-left: 1em; padding-right: 1em; text-align: center; vertical-align: top\">84</td>\n",
       "    </tr>\n",
       "    <tr>\n",
       "        <td style=\"padding-left: 1em; padding-right: 1em; text-align: center; vertical-align: top\">OMG - Usher featuring<br>will.i.am ...</td>\n",
       "        <td style=\"padding-left: 1em; padding-right: 1em; text-align: center; vertical-align: top\">71</td>\n",
       "    </tr>\n",
       "    <tr>\n",
       "        <td style=\"padding-left: 1em; padding-right: 1em; text-align: center; vertical-align: top\">U Smile - Justin Bieber</td>\n",
       "        <td style=\"padding-left: 1em; padding-right: 1em; text-align: center; vertical-align: top\">48</td>\n",
       "    </tr>\n",
       "</table>\n",
       "[3121 rows x 2 columns]<br/>Note: Only the head of the SFrame is printed.<br/>You can use print_rows(num_rows=m, num_columns=n) to print more rows and columns.\n",
       "</div>"
      ],
      "text/plain": [
       "Columns:\n",
       "\tsong\tstr\n",
       "\tcount\tint\n",
       "\n",
       "Rows: 3121\n",
       "\n",
       "Data:\n",
       "+--------------------------------+-------+\n",
       "|              song              | count |\n",
       "+--------------------------------+-------+\n",
       "|          Undo - Björk          |  453  |\n",
       "|     Secrets - OneRepublic      |  375  |\n",
       "|    Revelry - Kings Of Leon     |  227  |\n",
       "| You're The One - Dwight Yoakam |  166  |\n",
       "| Fireflies - Charttraxx Karaoke |  127  |\n",
       "|    Hey_ Soul Sister - Train    |  107  |\n",
       "| Horn Concerto No. 4 in E f...  |   96  |\n",
       "|    Sehr kosmisch - Harmonia    |   84  |\n",
       "| OMG - Usher featuring will...  |   71  |\n",
       "|    U Smile - Justin Bieber     |   48  |\n",
       "+--------------------------------+-------+\n",
       "[3121 rows x 2 columns]\n",
       "Note: Only the head of the SFrame is printed.\n",
       "You can use print_rows(num_rows=m, num_columns=n) to print more rows and columns."
      ]
     },
     "execution_count": 30,
     "metadata": {},
     "output_type": "execute_result"
    }
   ],
   "source": [
    "recommend_count = recommendations.groupby(key_columns='song', operations={'count': graphlab.aggregate.COUNT()})\n",
    "recommend_count.sort('count',ascending=False)"
   ]
  },
  {
   "cell_type": "code",
   "execution_count": 31,
   "metadata": {
    "collapsed": false
   },
   "outputs": [
    {
     "data": {
      "text/plain": [
       "'Undo - Bj\\xc3\\xb6rk'"
      ]
     },
     "execution_count": 31,
     "metadata": {},
     "output_type": "execute_result"
    }
   ],
   "source": [
    "most_recommended_song = 'Undo - Björk'\n",
    "most_recommended_song"
   ]
  }
 ],
 "metadata": {
  "kernelspec": {
   "display_name": "Python 2",
   "language": "python",
   "name": "python2"
  },
  "language_info": {
   "codemirror_mode": {
    "name": "ipython",
    "version": 2
   },
   "file_extension": ".py",
   "mimetype": "text/x-python",
   "name": "python",
   "nbconvert_exporter": "python",
   "pygments_lexer": "ipython2",
   "version": "2.7.11"
  }
 },
 "nbformat": 4,
 "nbformat_minor": 0
}
